{
 "cells": [
  {
   "cell_type": "code",
   "execution_count": 1,
   "metadata": {
    "collapsed": true
   },
   "outputs": [],
   "source": [
    "import numpy as np\n",
    "import scipy.io as sio\n",
    "from glob import glob\n",
    "from tqdm import tqdm\n",
    "from scipy.signal import convolve2d\n",
    "from scipy.interpolate import RectBivariateSpline\n",
    "from astropy.modeling.blackbody import blackbody_lambda, blackbody_nu\n",
    "from astropy.modeling import models, fitting\n",
    "import astropy.units as u\n",
    "import pickle\n",
    "import matplotlib.pyplot as plt\n",
    "from astropy.io import fits\n",
    "import sys\n",
    "sys.path.append('../python/')\n",
    "import chroma\n",
    "%matplotlib inline\n",
    "psfdir='../psf_models/psf_data_8_18_08/PSF_Mono/'"
   ]
  },
  {
   "cell_type": "code",
   "execution_count": 2,
   "metadata": {
    "collapsed": true
   },
   "outputs": [],
   "source": []
  },
  {
   "cell_type": "code",
   "execution_count": null,
   "metadata": {
    "collapsed": false
   },
   "outputs": [
    {
     "name": "stderr",
     "output_type": "stream",
     "text": [
      "\n",
      "\n",
      "\n",
      "  0%|          | 0/24 [00:00<?, ?it/s]\u001b[A\u001b[A\u001b[A\n",
      "\n",
      "\u001b[A\u001b[A\n",
      "\n",
      "\n",
      "  8%|▊         | 2/24 [01:52<20:33, 56.08s/it]\u001b[A\u001b[A\u001b[A\n",
      "\n",
      "\n",
      " 12%|█▎        | 3/24 [03:47<25:52, 73.94s/it]\u001b[A\u001b[A\u001b[A\n",
      "\n",
      "\n",
      " 17%|█▋        | 4/24 [05:40<28:33, 85.70s/it]\u001b[A\u001b[A\u001b[A\n",
      "\n",
      "\n",
      " 25%|██▌       | 6/24 [07:35<23:09, 77.21s/it]\u001b[A\u001b[A\u001b[A\n",
      "\n",
      "\n",
      " 29%|██▉       | 7/24 [09:27<24:50, 87.66s/it]\u001b[A\u001b[A\u001b[A"
     ]
    }
   ],
   "source": [
    "module=2\n",
    "output=1\n",
    "fnames=glob('{}Module_{}/{}/*.mat'.format(psfdir,module,module+0.1*output))\n",
    "lam=np.asarray([(f.split('_')[-1])[0:-4] for f in fnames],dtype='float')\n",
    "psf_model=np.zeros((24,4,len(fnames),50,50))\n",
    "\n",
    "\n",
    "\n",
    "for module in tqdm(np.arange(1,25)):\n",
    "    for output in np.arange(1,5):\n",
    "        fnames=glob('{}Module_{}/{}/*.mat'.format(psfdir,module,module+0.1*output))\n",
    "        for l in (xrange(len(fnames))):\n",
    "            h=sio.loadmat(fnames[0])\n",
    "            psf=np.zeros((len(fnames),np.shape(h['psf'])[0],np.shape(h['psf'])[1]))\n",
    "            res=h['grid_res'][0][0]\n",
    "            lam=[]\n",
    "            for i,f in enumerate(fnames):\n",
    "                h=sio.loadmat(f)\n",
    "                psf[i,:,:]=h['psf']\n",
    "                lam.append(f.split('_')[-1][0:-4])\n",
    "\n",
    "            PRFx = np.arange(0., np.shape(psf[0])[0] + 0.)-np.shape(psf[0])[0]/2\n",
    "            PRFy = np.arange(0., np.shape(psf[0])[1] + 0.)-np.shape(psf[0])[0]/2\n",
    "            PRFx*=0.03\n",
    "            PRFy*=0.03\n",
    "            PRFX,PRFY=np.meshgrid(PRFx,PRFy)    \n",
    "            cx=PRFX[0][np.where(PRFX[0]>=0)[0][0]:np.where(PRFX[0]<1)[0][-1]]\n",
    "            cy=PRFY[:,0][np.where(PRFY[:,0]>=0)[0][0]:np.where(PRFY[:,0]<1)[0][-1]]\n",
    "            cx,cy=np.meshgrid(cx,cy)\n",
    "            prf=np.copy(cx)*0.+1.\n",
    "            psf_c=convolve2d(psf[l,:,:],prf,mode='same')\n",
    "\n",
    "            psf_c/=np.nansum(psf_c)\n",
    "\n",
    "            model=RectBivariateSpline(PRFx,PRFy,psf_c)\n",
    "            X,Y=np.meshgrid(np.linspace(-3,3,50),np.linspace(-3,3,50))\n",
    "\n",
    "            PRFX,PRFY,psf_c=X,Y,model(X[0],Y[:,0])\n",
    "\n",
    "            psf_model[module-1,output-1,l,:,:]=psf_c\n",
    "pickle.dump(psf_model,open('psf_model.p','wb'))"
   ]
  },
  {
   "cell_type": "code",
   "execution_count": null,
   "metadata": {
    "collapsed": true
   },
   "outputs": [],
   "source": [
    "psf_model=pickle.load(open('psf_model.p','rb'))"
   ]
  },
  {
   "cell_type": "code",
   "execution_count": null,
   "metadata": {
    "collapsed": false
   },
   "outputs": [],
   "source": [
    "X,Y=np.meshgrid(np.linspace(-5,5,50),np.linspace(-5,5,50))\n",
    "fnames=glob('{}Module_{}/{}/*.mat'.format(psfdir,2,2+1*0.1))\n",
    "lam=np.asarray([(f.split('_')[-1])[0:-4] for f in fnames],dtype='float')\n",
    "\n",
    "fnames=glob('../data/tabby/*.fits')\n",
    "\n",
    "\n",
    "for f in fnames:\n",
    "    h=fits.open(f)\n",
    "    output=h[0].header['OUTPUT']\n",
    "    module=h[0].header['MODULE']\n",
    "    plt.figure()\n",
    "    plt.imshow(psf_model[module-1,output-1,11,:,:])\n",
    "    \n",
    "    fit=fitting.LevMarLSQFitter()\n",
    "    \n",
    "\n",
    "    psf_xshifts=np.zeros(np.shape(psf_model)[1])\n",
    "    psf_yshifts=np.zeros(np.shape(psf_model)[1])\n",
    "\n",
    "    for l in (xrange(len(fnames))):\n",
    "        g_init=models.Gaussian2D(x_mean=0,y_mean=0,amplitude=np.max(psf_model[module-1,output-1,l,:,:]))\n",
    "        g=fit(g_init,X,Y,psf_model[l,:,:])\n",
    "        psf_xshifts[l],psf_yshifts[l]=g.x_mean.value,g.y_mean.value\n",
    "    plt.figure()\n",
    "    plt.plot(psf_xshifts)\n",
    "    plt.plot(psf_yshifts)\n",
    "    break\n",
    "    "
   ]
  },
  {
   "cell_type": "code",
   "execution_count": null,
   "metadata": {
    "collapsed": false
   },
   "outputs": [],
   "source": []
  },
  {
   "cell_type": "code",
   "execution_count": null,
   "metadata": {
    "collapsed": true
   },
   "outputs": [],
   "source": []
  }
 ],
 "metadata": {
  "kernelspec": {
   "display_name": "Python 2",
   "language": "python",
   "name": "python2"
  },
  "language_info": {
   "codemirror_mode": {
    "name": "ipython",
    "version": 2
   },
   "file_extension": ".py",
   "mimetype": "text/x-python",
   "name": "python",
   "nbconvert_exporter": "python",
   "pygments_lexer": "ipython2",
   "version": "2.7.11"
  }
 },
 "nbformat": 4,
 "nbformat_minor": 2
}
